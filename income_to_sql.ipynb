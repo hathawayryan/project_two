{
 "cells": [
  {
   "cell_type": "code",
   "execution_count": 1,
   "metadata": {},
   "outputs": [],
   "source": [
    "import pandas as pd \n",
    "from sqlalchemy import create_engine\n"
   ]
  },
  {
   "cell_type": "code",
   "execution_count": 18,
   "metadata": {},
   "outputs": [
    {
     "data": {
      "text/html": [
       "<div>\n",
       "<style scoped>\n",
       "    .dataframe tbody tr th:only-of-type {\n",
       "        vertical-align: middle;\n",
       "    }\n",
       "\n",
       "    .dataframe tbody tr th {\n",
       "        vertical-align: top;\n",
       "    }\n",
       "\n",
       "    .dataframe thead th {\n",
       "        text-align: right;\n",
       "    }\n",
       "</style>\n",
       "<table border=\"1\" class=\"dataframe\">\n",
       "  <thead>\n",
       "    <tr style=\"text-align: right;\">\n",
       "      <th></th>\n",
       "      <th>state</th>\n",
       "      <th>county</th>\n",
       "      <th>year</th>\n",
       "      <th>per_capita_income</th>\n",
       "      <th>percent_change_yoy</th>\n",
       "    </tr>\n",
       "    <tr>\n",
       "      <th>id</th>\n",
       "      <th></th>\n",
       "      <th></th>\n",
       "      <th></th>\n",
       "      <th></th>\n",
       "      <th></th>\n",
       "    </tr>\n",
       "  </thead>\n",
       "  <tbody>\n",
       "    <tr>\n",
       "      <th>1</th>\n",
       "      <td>Texas</td>\n",
       "      <td>Anderson</td>\n",
       "      <td>2017</td>\n",
       "      <td>32759</td>\n",
       "      <td>NaN</td>\n",
       "    </tr>\n",
       "    <tr>\n",
       "      <th>2</th>\n",
       "      <td>Texas</td>\n",
       "      <td>Andrews</td>\n",
       "      <td>2017</td>\n",
       "      <td>45435</td>\n",
       "      <td>NaN</td>\n",
       "    </tr>\n",
       "    <tr>\n",
       "      <th>3</th>\n",
       "      <td>Texas</td>\n",
       "      <td>Angelina</td>\n",
       "      <td>2017</td>\n",
       "      <td>37347</td>\n",
       "      <td>NaN</td>\n",
       "    </tr>\n",
       "    <tr>\n",
       "      <th>4</th>\n",
       "      <td>Texas</td>\n",
       "      <td>Aransas</td>\n",
       "      <td>2017</td>\n",
       "      <td>45597</td>\n",
       "      <td>NaN</td>\n",
       "    </tr>\n",
       "    <tr>\n",
       "      <th>5</th>\n",
       "      <td>Texas</td>\n",
       "      <td>Archer</td>\n",
       "      <td>2017</td>\n",
       "      <td>47778</td>\n",
       "      <td>NaN</td>\n",
       "    </tr>\n",
       "    <tr>\n",
       "      <th>...</th>\n",
       "      <td>...</td>\n",
       "      <td>...</td>\n",
       "      <td>...</td>\n",
       "      <td>...</td>\n",
       "      <td>...</td>\n",
       "    </tr>\n",
       "    <tr>\n",
       "      <th>758</th>\n",
       "      <td>Texas</td>\n",
       "      <td>Wood</td>\n",
       "      <td>2019</td>\n",
       "      <td>39803</td>\n",
       "      <td>3.7</td>\n",
       "    </tr>\n",
       "    <tr>\n",
       "      <th>759</th>\n",
       "      <td>Texas</td>\n",
       "      <td>Yoakum</td>\n",
       "      <td>2019</td>\n",
       "      <td>44932</td>\n",
       "      <td>5.2</td>\n",
       "    </tr>\n",
       "    <tr>\n",
       "      <th>760</th>\n",
       "      <td>Texas</td>\n",
       "      <td>Young</td>\n",
       "      <td>2019</td>\n",
       "      <td>50732</td>\n",
       "      <td>1.4</td>\n",
       "    </tr>\n",
       "    <tr>\n",
       "      <th>761</th>\n",
       "      <td>Texas</td>\n",
       "      <td>Zapata</td>\n",
       "      <td>2019</td>\n",
       "      <td>28936</td>\n",
       "      <td>1.3</td>\n",
       "    </tr>\n",
       "    <tr>\n",
       "      <th>762</th>\n",
       "      <td>Texas</td>\n",
       "      <td>Zavala</td>\n",
       "      <td>2019</td>\n",
       "      <td>30779</td>\n",
       "      <td>6.2</td>\n",
       "    </tr>\n",
       "  </tbody>\n",
       "</table>\n",
       "<p>762 rows × 5 columns</p>\n",
       "</div>"
      ],
      "text/plain": [
       "     state    county  year  per_capita_income  percent_change_yoy\n",
       "id                                                               \n",
       "1    Texas  Anderson  2017              32759                 NaN\n",
       "2    Texas   Andrews  2017              45435                 NaN\n",
       "3    Texas  Angelina  2017              37347                 NaN\n",
       "4    Texas   Aransas  2017              45597                 NaN\n",
       "5    Texas    Archer  2017              47778                 NaN\n",
       "..     ...       ...   ...                ...                 ...\n",
       "758  Texas      Wood  2019              39803                 3.7\n",
       "759  Texas    Yoakum  2019              44932                 5.2\n",
       "760  Texas     Young  2019              50732                 1.4\n",
       "761  Texas    Zapata  2019              28936                 1.3\n",
       "762  Texas    Zavala  2019              30779                 6.2\n",
       "\n",
       "[762 rows x 5 columns]"
      ]
     },
     "execution_count": 18,
     "metadata": {},
     "output_type": "execute_result"
    }
   ],
   "source": [
    "income_df = pd.read_csv('Data sources/Personal Income by county.csv')\n",
    "income_df.rename(columns={'ID': 'id', \"State\" :'state', \"County\" :'county', \n",
    "                          \"Year\" :'year', \"Per_Capita_Income\" :'per_capita_income',\n",
    "                        \"Percent_Change_YOY\" :'percent_change_yoy' }, inplace=True)\n",
    "income_df.set_index('id', inplace = True)\n",
    "income_df"
   ]
  },
  {
   "cell_type": "code",
   "execution_count": 3,
   "metadata": {},
   "outputs": [],
   "source": [
    "rds_connection_string = f\"postgres:{password_here}@localhost:5432/Non_profit\"\n",
    "engine = create_engine(f'postgresql://{rds_connection_string}')"
   ]
  },
  {
   "cell_type": "code",
   "execution_count": 4,
   "metadata": {},
   "outputs": [
    {
     "data": {
      "text/plain": [
       "['house_median_prices', 'income']"
      ]
     },
     "execution_count": 4,
     "metadata": {},
     "output_type": "execute_result"
    }
   ],
   "source": [
    "engine.table_names()"
   ]
  },
  {
   "cell_type": "code",
   "execution_count": 19,
   "metadata": {},
   "outputs": [],
   "source": [
    "income_df.to_sql(name='income', con=engine, if_exists='append',index=True)"
   ]
  },
  {
   "cell_type": "code",
   "execution_count": null,
   "metadata": {},
   "outputs": [],
   "source": []
  }
 ],
 "metadata": {
  "kernelspec": {
   "display_name": "Python 3",
   "language": "python",
   "name": "python3"
  },
  "language_info": {
   "codemirror_mode": {
    "name": "ipython",
    "version": 3
   },
   "file_extension": ".py",
   "mimetype": "text/x-python",
   "name": "python",
   "nbconvert_exporter": "python",
   "pygments_lexer": "ipython3",
   "version": "3.8.3"
  }
 },
 "nbformat": 4,
 "nbformat_minor": 4
}